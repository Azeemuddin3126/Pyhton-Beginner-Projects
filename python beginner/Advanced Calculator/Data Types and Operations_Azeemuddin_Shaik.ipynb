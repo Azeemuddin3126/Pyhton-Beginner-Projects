{
 "cells": [
  {
   "cell_type": "markdown",
   "metadata": {},
   "source": [
    "Assignment - Data type and operators"
   ]
  },
  {
   "cell_type": "code",
   "execution_count": 2,
   "metadata": {},
   "outputs": [
    {
     "name": "stdout",
     "output_type": "stream",
     "text": [
      "[1, 2, 3, 4, 5, 6, 7, 8]\n"
     ]
    }
   ],
   "source": [
    "# program for Q1\n",
    "\n",
    "ans1 = [num for num in range(1,101) if[quotient for quotient in range(2,10) if num//quotient == 0]]\n",
    "print(ans1)"
   ]
  },
  {
   "cell_type": "code",
   "execution_count": 3,
   "metadata": {},
   "outputs": [
    {
     "name": "stdout",
     "output_type": "stream",
     "text": [
      "[2018, 2022, 10000, 1587]\n"
     ]
    }
   ],
   "source": [
    "# program for Q2\n",
    "\n",
    "sentence = ('''From 2018 to 2022 there were 10000 million of people who were infected\n",
    "with virus and 1587 million got vaccinated''')\n",
    "\n",
    "num = [int(i) for i in sentence.split() if i.isdigit()]\n",
    "print(num)"
   ]
  },
  {
   "cell_type": "code",
   "execution_count": 4,
   "metadata": {},
   "outputs": [
    {
     "name": "stdout",
     "output_type": "stream",
     "text": [
      "['Snow', 'Lannister', 'Stark', 'Stark', 'Lannister', 'Targaryen', 'Stark', 'Tyrell', 'Stark', 'Lannister', 'Baratheon', 'Bolton', 'Baelish']\n"
     ]
    }
   ],
   "source": [
    "# program for Q3\n",
    "\n",
    "characters = [('Snow', 'Jon'), ('Lannister', 'Cersei'), ('Stark', 'Arya'), ('Stark',\n",
    "'Robb'), ('Lannister', 'Jamie'), ('Targaryen', 'Daenerys'), ('Stark', 'Sansa'),\n",
    "('Tyrell', 'Margaery'), ('Stark', 'Eddard'), ('Lannister', 'Tyrion'), ('Baratheon',\n",
    "'Joffrey'), ('Bolton', 'Ramsey'), ('Baelish', 'Peter')]\n",
    "\n",
    "fname = [x[0] for x in characters]\n",
    "print(fname)"
   ]
  },
  {
   "cell_type": "code",
   "execution_count": 5,
   "metadata": {},
   "outputs": [
    {
     "name": "stdout",
     "output_type": "stream",
     "text": [
      "C1 C2 C3\n",
      "11 95 94\n",
      "32 46 10\n",
      "34 78 11\n"
     ]
    }
   ],
   "source": [
    "# program for Q4\n",
    "\n",
    "my_dict = {'C1':[11,32,34],'C2':[95,46,78],'C3':[94,10,11]}\n",
    "\n",
    "# rc for rows n columns\n",
    "for rc in zip(*([key] + (value) for key, value in sorted(my_dict.items()))):\n",
    "    print(*rc)\n",
    "    "
   ]
  },
  {
   "cell_type": "code",
   "execution_count": 6,
   "metadata": {},
   "outputs": [
    {
     "name": "stdout",
     "output_type": "stream",
     "text": [
      "11 32 34\n",
      "94 10 11\n",
      "95 46 78\n"
     ]
    }
   ],
   "source": [
    "# Another method for q4\n",
    "\n",
    "my_dict = {'C1':[11,32,34],'C2':[95,46,78],'C3':[94,10,11]}\n",
    "\n",
    "for j in sorted(my_dict.values()):\n",
    "    print(*(j))"
   ]
  },
  {
   "cell_type": "code",
   "execution_count": 7,
   "metadata": {},
   "outputs": [
    {
     "name": "stdout",
     "output_type": "stream",
     "text": [
      "{0: 55, 1: 66, 2: 77, 3: 88}\n"
     ]
    }
   ],
   "source": [
    "# program for Q5\n",
    "\n",
    "a = [55,66,77,88]\n",
    "\n",
    "result = {i: val for i, val in enumerate(a)}\n",
    "print(result)"
   ]
  },
  {
   "cell_type": "code",
   "execution_count": 12,
   "metadata": {},
   "outputs": [
    {
     "name": "stdout",
     "output_type": "stream",
     "text": [
      "ryomensukuna >>> 12\n"
     ]
    }
   ],
   "source": [
    "# program for Q6\n",
    "\n",
    "a = (\"rolexsir baburao ryomensukuna\")\n",
    "\n",
    "longest_word = max(a.split())\n",
    "print(longest_word,\">>>\",len(longest_word))"
   ]
  },
  {
   "cell_type": "code",
   "execution_count": 14,
   "metadata": {},
   "outputs": [
    {
     "name": "stdout",
     "output_type": "stream",
     "text": [
      "{'baburao', 'rolexsir', 'rymonesukuna'}\n"
     ]
    }
   ],
   "source": [
    "# program for Q7\n",
    "a = (\"rolexsir rolexsir rolexsir baburao baburao rymonesukuna\")\n",
    "unique_words = set(a.split())\n",
    "print(unique_words)"
   ]
  },
  {
   "cell_type": "code",
   "execution_count": 25,
   "metadata": {},
   "outputs": [
    {
     "name": "stdout",
     "output_type": "stream",
     "text": [
      "Million of people who were infected\n",
      "MILLION OF PEOPLE WHO WERE INFECTED\n",
      "Million Of People Who Were Infected\n",
      "#################################\n",
      "{'a': 18, 'c': 22, 'd': 25, 'e': 28}\n",
      "#################################\n",
      "['Mathematics', 'chemistry', 'Science', 1997, 2000, 2002]\n"
     ]
    }
   ],
   "source": [
    "# program for Q8\n",
    "\n",
    "#sting\n",
    "a = ('million of people who were infected')\n",
    "print(a.capitalize())\n",
    "print(a.upper())\n",
    "print(a.title())\n",
    "\n",
    "print('#################################')\n",
    "\n",
    "#dictionary\n",
    "Dict = {'a': 18,'b':12,'c':22,'d':25}\n",
    "Dict.update({'e': 28})\n",
    "Dict.pop('b')\n",
    "print(Dict)\n",
    "\n",
    "print('#################################')\n",
    "\n",
    "#list\n",
    "c = ['Mathematics', 'chemistry', 1997, 2000]\n",
    "c.append(2002)\n",
    "c.insert(2,'Science')\n",
    "print(c)"
   ]
  },
  {
   "cell_type": "code",
   "execution_count": 10,
   "metadata": {},
   "outputs": [
    {
     "name": "stdout",
     "output_type": "stream",
     "text": [
      "Addition:  15\n",
      "comparison:  True\n",
      "logical:  5\n",
      "bitwise:  5120\n",
      "Multiply:  50\n"
     ]
    }
   ],
   "source": [
    "# program for Q9\n",
    "a = 10\n",
    "b = 5\n",
    "\n",
    "print(\"Addition: \",a+b)\n",
    "print(\"comparison: \",a>b)\n",
    "print(\"logical: \",a and b)\n",
    "print(\"bitwise: \",b<<a)\n",
    "print(\"Multiply: \",a*b)"
   ]
  },
  {
   "cell_type": "code",
   "execution_count": 17,
   "metadata": {},
   "outputs": [
    {
     "name": "stdout",
     "output_type": "stream",
     "text": [
      "cat\n",
      "window\n",
      "ball\n",
      "++++++++++++++++++++++\n",
      "0\n",
      "1\n",
      "2\n",
      "3\n",
      "4\n",
      "5\n",
      "6\n",
      "7\n",
      "8\n",
      "9\n",
      "10\n",
      "++++++++++++++++++++++\n",
      "[6, 7, 8, 9, 10]\n",
      "++++++++++++++++++++++\n",
      "{3, 4, 5, 6, 7, 8, 9, 10}\n",
      "++++++++++++++++++++++\n",
      "{1, 3, 5, 7, 9}\n"
     ]
    }
   ],
   "source": [
    "# program for Q10\n",
    "\n",
    "#ex1\n",
    "word = ['cat','window','ball']\n",
    "for i in word:\n",
    "    print(i)\n",
    "    \n",
    "print(\"++++++++++++++++++++++\")\n",
    "#eg2\n",
    "for j in range(11):\n",
    "    print(j)\n",
    "\n",
    "\n",
    "print(\"++++++++++++++++++++++\")\n",
    "#ex3\n",
    "x = [j for j in range(11) if j>5]\n",
    "print(x)\n",
    "\n",
    "\n",
    "print(\"++++++++++++++++++++++\")\n",
    "#ex4\n",
    "d = {j for j in range(11) if j>2}\n",
    "print(d)\n",
    "\n",
    "\n",
    "print(\"++++++++++++++++++++++\")\n",
    "e = {j for j in range(11) if j%2}\n",
    "print(e)"
   ]
  }
 ],
 "metadata": {
  "kernelspec": {
   "display_name": "Python 3.10.5 64-bit",
   "language": "python",
   "name": "python3"
  },
  "language_info": {
   "codemirror_mode": {
    "name": "ipython",
    "version": 3
   },
   "file_extension": ".py",
   "mimetype": "text/x-python",
   "name": "python",
   "nbconvert_exporter": "python",
   "pygments_lexer": "ipython3",
   "version": "3.10.5"
  },
  "orig_nbformat": 4,
  "vscode": {
   "interpreter": {
    "hash": "52d2764c85aba19f33af34bcddfedb05ca959a3dfd8aed81aefed02dc5ec8c78"
   }
  }
 },
 "nbformat": 4,
 "nbformat_minor": 2
}
